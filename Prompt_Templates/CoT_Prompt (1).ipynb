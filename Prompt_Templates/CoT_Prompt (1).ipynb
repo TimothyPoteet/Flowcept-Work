{
 "cells": [
  {
   "cell_type": "code",
   "execution_count": null,
   "id": "91e91480-cf6a-468d-8682-4b0f189341f4",
   "metadata": {},
   "outputs": [],
   "source": [
    "def cot_prompt(query, context=\"\"):\n",
    "    return f\"\"\"\n",
    "{context}\n",
    "{query}\n",
    "\n",
    "You are analyzing a mathematical workflow composed of multiple tasks. \n",
    "Each task processes data and passes it to the next task. \n",
    "Tasks have names like I_TO_H and H_TO_G. Data flows through tasks in a directed graph based on dependencies. Workflow = workflow.py\n",
    "\n",
    "To answer questions, follow these reasoning steps:\n",
    "1. Identify the task being asked about.\n",
    "2. Trace its inputs: which task produced the data it consumed?\n",
    "3. Trace its outputs: what does it return and where does it go?\n",
    "4. Use task definitions to compute or infer results.\n",
    "5. If the workflow failed, identify the last successful task, then check inputs and errors in the failed task.\n",
    "\n",
    "Always explain your reasoning step by step before providing a final answer.\n",
    "\"\"\"\n",
    "WIK = Workflow.run"
   ]
  },
  {
   "cell_type": "code",
   "execution_count": null,
   "id": "32d608d6-0998-4af2-8d29-a900f903a5ea",
   "metadata": {},
   "outputs": [],
   "source": [
    "# CoT prompt template\n",
    "def cot_prompt(query, context=\"\"):\n",
    "    role = \"\"\"You are an expert in HPC workflow provenance analysis with a deep knowledge of data lineage tracing, workflow management, and computing systems. You are analyzing provenance data from a complex workflow comprised of numerous tasks.\n",
    "\"\"\"\n",
    "    definitions = \"\"\" Workflow provenance in HPC refers to a comprehensive way of tracking and recording all computational processes, transformations, resource utilization, and dependencies within a workflow.\n",
    "                Within the workflow, a task object has it's own task provenance. \n",
    "                Input data is stored in the 'used' field whereas the created output data is stored in the 'generated' field.\n",
    "                Tasks with the same 'workflow_id' indicates that they belong to the same workflow execution trace.\n",
    "\"\"\"\n",
    "    job = \" Your job is to understand the complex workflow in detail so that you can accurately respond to the query. \"\n",
    "\n",
    "    return f\"\"\"\n",
    "{context}\n",
    "{role}\n",
    "{definitions}\n",
    "{job}\n",
    "{query}\n",
    "\n",
    "You are analyzing a mathematical workflow composed of multiple tasks. \n",
    "Each task processes data and passes it to the next task. \n",
    "Tasks have names like I_TO_H and H_TO_G. Data flows through tasks in a directed graph based on dependencies. Workflow = workflow.py\n",
    "\n",
    "To answer questions, follow these reasoning steps:\n",
    "1. Identify the task being asked about.\n",
    "2. Trace its inputs: which task produced the data it consumed?\n",
    "3. Trace its outputs: what does it return and where does it go?\n",
    "4. Use task definitions to compute or infer results.\n",
    "5. If the workflow failed, identify the last successful task, then check inputs and errors in the failed task.\n",
    "\n",
    "Always explain your reasoning step by step before providing a final answer.\n",
    "\"\"\"\n",
    "WIK = Workflow.run "
   ]
  }
 ],
 "metadata": {
  "kernelspec": {
   "display_name": "Python 3 (ipykernel)",
   "language": "python",
   "name": "python3"
  },
  "language_info": {
   "codemirror_mode": {
    "name": "ipython",
    "version": 3
   },
   "file_extension": ".py",
   "mimetype": "text/x-python",
   "name": "python",
   "nbconvert_exporter": "python",
   "pygments_lexer": "ipython3",
   "version": "3.12.3"
  }
 },
 "nbformat": 4,
 "nbformat_minor": 5
}
