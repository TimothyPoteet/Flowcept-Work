{
 "cells": [
  {
   "cell_type": "markdown",
   "id": "cac11a98-160c-4941-90d4-682da31cf9e9",
   "metadata": {},
   "source": [
    "# Role Prompts / Definitions"
   ]
  },
  {
   "cell_type": "code",
   "execution_count": null,
   "id": "937d2c6a-7146-4452-b628-344b1390e219",
   "metadata": {},
   "outputs": [],
   "source": [
    "Role = \"\"\"You are an expert in HPC workflow provenance analysis with a deep knowledge of data lineage tracing, workflow management, and computing systems. \n",
    "            You are analyzing provenance data from a complex workflow consisting of numerous tasks.\n",
    "\"\"\""
   ]
  },
  {
   "cell_type": "code",
   "execution_count": 1,
   "id": "f8395082-24e4-4de5-85ff-2e2574fbbea8",
   "metadata": {},
   "outputs": [],
   "source": [
    "WCONN = \"\"\" Workflow provenance in HPC refers to a comprehensive way of tracking and recording all computational processes, transformations, resource utilization, and dependencies within a workflow.\n",
    "                Within the workflow, a task object has it's own task provenance. \n",
    "                Input data is stored in the 'used' field whereas the created output data is stored in the 'generated' field.\n",
    "                Tasks with the same 'workflow_id' indicates that they belong to the same workflow execution trace.\n",
    "\"\"\""
   ]
  },
  {
   "cell_type": "code",
   "execution_count": null,
   "id": "ab5ebceb-b00c-4050-a4cc-40cc18c48ac4",
   "metadata": {},
   "outputs": [],
   "source": [
    "Job = \" Your job is to understand the complex workflow in detail so that you can accurately respond to the query. \""
   ]
  },
  {
   "cell_type": "code",
   "execution_count": null,
   "id": "e90ee25e-151f-43fa-8f0d-1ca9e3b894cd",
   "metadata": {},
   "outputs": [],
   "source": [
    "W=\"\"\"A workflow consists of an orchestrated and repeatable pattern of activity, enabled by the systematic \n",
    "organization of resources into processes that transform materials, provide services, or process information. \n",
    "It can be depicted as a sequence of operations, the work of a person or group, the work of an organization of staff, or one or more simple or complex mechanisms. \n",
    "Workflows may be viewed as one fundamental building block  to be combined with other parts of an organization's structure \n",
    "such as information technology, teams, projects and hierarchies\"\"\""
   ]
  },
  {
   "cell_type": "code",
   "execution_count": null,
   "id": "99d63d65-27d5-4503-b31f-6b1a4f25034f",
   "metadata": {},
   "outputs": [],
   "source": []
  }
 ],
 "metadata": {
  "kernelspec": {
   "display_name": "Python 3 (ipykernel)",
   "language": "python",
   "name": "python3"
  },
  "language_info": {
   "codemirror_mode": {
    "name": "ipython",
    "version": 3
   },
   "file_extension": ".py",
   "mimetype": "text/x-python",
   "name": "python",
   "nbconvert_exporter": "python",
   "pygments_lexer": "ipython3",
   "version": "3.12.3"
  }
 },
 "nbformat": 4,
 "nbformat_minor": 5
}
