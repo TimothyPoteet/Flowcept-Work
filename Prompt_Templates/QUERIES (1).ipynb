{
 "cells": [
  {
   "cell_type": "markdown",
   "id": "6c630b4c-7af1-4a8c-bf24-84a9793ddaca",
   "metadata": {},
   "source": [
    "# Swallow Queries List"
   ]
  },
  {
   "cell_type": "markdown",
   "id": "cde3fc63-c78f-40bf-b36c-88588064ebbf",
   "metadata": {},
   "source": [
    "## These are at 0 context, more context will be added to change the prompt technique. These are the queries in their basic form to understand what is being asked under what overhead."
   ]
  },
  {
   "cell_type": "markdown",
   "id": "a9bddc82-e4df-4ec0-a097-fbbdc6164614",
   "metadata": {},
   "source": [
    "# Control Flow "
   ]
  },
  {
   "attachments": {},
   "cell_type": "markdown",
   "id": "045ff9f3-0aec-43b5-9b36-0084b0f075f7",
   "metadata": {},
   "source": [
    "### Execution Order \n",
    "\n",
    "---\n",
    "- What was the first task executed in the workflow?\n",
    "- What was the final task executed in the workflow?\n",
    "--- \n",
    "- What step was executed after 'I_TO_H'?\n",
    "- Did 'F_TO_C' execute before or after 'G_TO_B?\n",
    "---\n",
    "- In what order were D,C, and B produced?             # this a bit more complex than previous because it will require extra knowledge about the workflow structure\n",
    "---\n",
    "- List the complete execution order of all tasks in the workflow? # this even more complex than previous because it will require full knowledge about the workflow structure\n",
    "---\n",
    "- Were any steps executed more than once?    ********scheduling query*******\n",
    "- Which steps ran in parallel after H was computed?   ********scheduling query*******\n",
    "---"
   ]
  },
  {
   "attachments": {},
   "cell_type": "markdown",
   "id": "4278a510-9f66-44c3-bd59-b19bf8a83cf9",
   "metadata": {},
   "source": [
    "### Dependencies \n",
    "\n",
    "---\n",
    "- What are the direct predecessors of 'I_TO_H'?\n",
    "- Which task(s) could not start until 'H_TO_F' was complete?\n",
    "- Which earlier task did 'DCB_TO_A' depend on?\n",
    "#### Upstream | Downstream dependencies between specific tasks.\n",
    "---\n",
    "- Which task triggered the execution of 'H_TO_E'?\n",
    "#### Initiation \n",
    "---\n",
    "- Was 'E_TO_D' apart of a sequential or branched path?\n",
    "- How is 'G_TO_B' related to 'I_TO_H' in the control-flow path?\n",
    "- What dependencies exist between the H node and the final node result of A?\n",
    "- How many tasks depend on another task?\n",
    "#### Path Structure - Understanding the type of path between tasks.\n",
    "---"
   ]
  },
  {
   "attachments": {},
   "cell_type": "markdown",
   "id": "4c3789f3-3db4-4dea-b0ff-60f1691e9150",
   "metadata": {},
   "source": [
    "## Failure // Error Handling\n",
    "\n",
    "- Did any task in the workflow fail?\n",
    "- Did any tasks raise an error during execution?\n",
    "- Were any tasks skipped entirely?\n",
    "- Was the workflow able to complete successfully despite any failure?\n",
    "### Failure Detection\n",
    "---\n",
    "- If 'H_TO_G' had failed, what downstream tasks would have been affected?\n",
    "- What tasks failed and what were their immediate predecessors? # IN THIS I WOULD CHANGE THE WORKFLOW SO A TASK FAILED\n",
    "### Impact Analysis of Failure\n",
    "---\n",
    "- What is the reason that 'H_TO_F' would fail?\n",
    "- Are there any tasks more liable to fail than others, if so why?\n",
    "### Failure Cause\n",
    "---"
   ]
  },
  {
   "cell_type": "markdown",
   "id": "c706a42f-5c34-4ac4-82e6-ae28476d1282",
   "metadata": {},
   "source": [
    "#"
   ]
  },
  {
   "cell_type": "markdown",
   "id": "a1d2b83e-ff50-441b-9e73-6cbe3d7306e8",
   "metadata": {},
   "source": [
    "# Dataflow Queries "
   ]
  },
  {
   "cell_type": "markdown",
   "id": "fbf15cb6-8ddc-45e1-b0ed-9ca385e0ee04",
   "metadata": {},
   "source": [
    "## Data Lineage : Values through tasks\n",
    "---\n",
    "- What was in the input value?\n",
    "- How was the initial input I transformed in the first step?\n",
    "### Input State\n",
    "---\n",
    "- What intermediate values were generated from input 'I'?\n",
    "- What were the outputs of the tasks 'H_TO_E', 'H_TO_F', and 'H_TO_G'?\n",
    "- How did the value of 'B' change compared to the value of 'D'?\n",
    "### Value Tracking\n",
    "---\n",
    "- Trace the lineage of the final output 'A', back to the input 'I'.\n",
    "- Trace the lineage of 'C', back to the input 'I'.\n",
    "- What tasks contributed data to the final score 'A'?\n",
    "### Aggregation of Lineage\n",
    "---"
   ]
  },
  {
   "attachments": {},
   "cell_type": "markdown",
   "id": "c9622dd9-51b6-4ac7-87e8-44d91607823a",
   "metadata": {},
   "source": [
    "## Transformation Logic in Dataflow : How data is processed at each task\n",
    "---\n",
    "- Which functions process data sequentially and which process data in parallel?\n",
    "- Is there any data transformation that involves conditional branching within a function?\n",
    "### Flow of Transformations\n",
    "---\n",
    "- Which task applied a logarithmic transformation?\n",
    "- Are there any tasks that square or root their inputs? Which ones?\n",
    "- Did any task apply a nonlinear transformation to its input?\n",
    "### Transformation Detection\n",
    "---\n",
    "- How does 'H_TO_F' process the input from 'H'?\n",
    "### Data Handling\n",
    "---\n",
    "- How are the inputs of 'E_TO_D', 'F_TO_C', and 'G_TO_B' combined?\n",
    "- Describe each transformation from task to task.\n",
    "### Input combination into a single transformation\n",
    "---"
   ]
  },
  {
   "attachments": {},
   "cell_type": "markdown",
   "id": "da5aca31-2282-4d4e-99ea-df6783361008",
   "metadata": {},
   "source": [
    "## Inputs and Outputs of Tasks\n",
    "---\n",
    "- What tasks take the value 'H' as input?\n",
    "- Was the output of I_TO_H used directly by multiple downstream tasks? If so what tasks?\n",
    "- Which tasks produce intermediate values that are consumed by other tasks?\n",
    "- How many values are combined to produce the final output 'A'?\n",
    "### How input & output moves between tasks.\n",
    "---\n",
    "- Did any task produce more than one output?\n",
    "- What is the data type of the output produced by 'I_TO_H'?\n",
    "- What are the output values of 'E_TO_D', 'F_TO_C', and 'G_TO_B'?\n",
    "### Output Inspection\n",
    "---\n",
    "- How can 'H_TO_G's output change given the input?\n",
    "### Dynamic Behavior\n",
    "---"
   ]
  },
  {
   "attachments": {},
   "cell_type": "markdown",
   "id": "a5677e80-ebc6-4d10-85c7-c8fddf680248",
   "metadata": {},
   "source": [
    "## Function Level Tracing\n",
    "---\n",
    "- What is the role of the 'DCB_TO_A' function in data-flow?\n",
    "- How does the task 'H_TO_G' alter downstream values?\n",
    "- Are there any functions that perform conditional branching or dynamic transformations?\n",
    "### Function Role and Behavior\n",
    "---\n",
    "- How many tasks/ functions does the data flow pass through before the final output?\n",
    "- Which functions produce outputs that are inputs to more than one downstream task?\n",
    "- What relationship exists between the output of 'H_TO_E' and the input 'E_TO_D'?\n",
    "### Dataflow Structure and Dependencies\n",
    "---\n",
    "- Which functions handle parallel data transformations?\n",
    "- Which functions process data sequentially, and which process data in parallel?\n",
    "### Parallelism\n",
    "---"
   ]
  },
  {
   "cell_type": "markdown",
   "id": "b751f121-ae03-417b-a668-c348211e32e6",
   "metadata": {},
   "source": [
    "# Scheduling Data Queries"
   ]
  },
  {
   "attachments": {},
   "cell_type": "markdown",
   "id": "a72f8d11-af1b-4e9b-8f34-b3a33c246ebd",
   "metadata": {},
   "source": [
    "- On which node or machine did the task G_TO_B run?\n",
    "- Where was the task DCB_TO_A executed?\n",
    "- Did all the tasks in the workflow run on the same node?\n",
    "### Task Location and Execution\n",
    "---\n",
    "- How long did each task wait before it was scheduled?\n",
    "- Which task had the longest delay between being ready and being scheduled?\n",
    "- Where there any idle periods on any node during execution?\n",
    "- Did the scheduler assign any tasks to the same resource consecutively?\n",
    "### Scheduling Understanding\n",
    "---\n",
    "- Were any tasks exeucted in parllel across different processes?\n",
    "---"
   ]
  },
  {
   "cell_type": "markdown",
   "id": "a5c508aa-1ce2-4c1d-b3ea-bd175176cbe5",
   "metadata": {},
   "source": [
    "# Telemetry Queries"
   ]
  },
  {
   "attachments": {},
   "cell_type": "markdown",
   "id": "c9c71ddc-79a3-4506-9545-d5dc9451ef0f",
   "metadata": {},
   "source": [
    "## Task Duration // Timing\n",
    "---\n",
    "- How long did the 'F_TO_C' task take to execute?\n",
    "- Order the tasks from longest to shortest execution time.\n",
    "- Which task had the largest influence on overall runtime?\n",
    "### Individual task timing\n",
    "---\n",
    "- What was the runtime of the entire workflow?\n",
    "- Which stage of the workflow was most time-consuming?\n",
    "-  What is the standard deviation of task durations across the workflow?\n",
    "- What was the average duration of tasks in the parallel stage?\n",
    "### Stage timing\n",
    "---\n",
    "- How much time elapsed between 'I_TO_H' and 'G_TO_B'?\n",
    "### Intertask timing\n",
    "---"
   ]
  },
  {
   "attachments": {},
   "cell_type": "markdown",
   "id": "4ffc5910-3da6-4cbb-9f3f-aa3137716ec6",
   "metadata": {},
   "source": [
    "## Resource Usage \n",
    "---\n",
    "- What was the peak memory usage during the task 'G_TO_B'?\n",
    "- What task had the highest CPU utilization?\n",
    "- Which task used the most RAM?\n",
    "- What were the resource usage metrics for 'E_TO_D'?\n",
    "### Peak Resource Usage\n",
    "---\n",
    "- Did any tasks exceed their allocated memory limits?\n",
    "- Did any task experience memory spikes?\n",
    "- Was the system under high load during the execution of the parallel stage?\n",
    "### Resource Limits\n",
    "- I want the mean, median, and mode of CPU usage across the workflow by task.\n",
    "### Resource Summaries\n",
    "---"
   ]
  },
  {
   "attachments": {},
   "cell_type": "markdown",
   "id": "6987897a-a8f4-4714-a7b5-afa241d9b681",
   "metadata": {},
   "source": [
    "## Errors and Exceptions\n",
    "---\n",
    "- Did any task fail with an exception during execution?\n",
    "- Were any runtime errors logged during the execution of the workflow?\n",
    "- What exception occured in the 'H_TO_G' function?\n",
    "- Did any function raise a ValueError or TypeError?\n",
    "### Task level failures\n",
    "---\n",
    "- Which task caused the workflow to terminate early?\n",
    "- Were any partial results produced despite an error in one branch?\n",
    "- Were any downstream tasks skipped due to a failure upstream?\n",
    "# Failure propogation\n",
    "---\n",
    "- How many tasks reported failures in the telemetry logs, and what were their associated error messages?\n",
    "--- "
   ]
  },
  {
   "cell_type": "code",
   "execution_count": null,
   "id": "294a58a8-5bbb-44bd-bdca-96d61b190885",
   "metadata": {},
   "outputs": [],
   "source": []
  }
 ],
 "metadata": {
  "kernelspec": {
   "display_name": "Python 3 (ipykernel)",
   "language": "python",
   "name": "python3"
  },
  "language_info": {
   "codemirror_mode": {
    "name": "ipython",
    "version": 3
   },
   "file_extension": ".py",
   "mimetype": "text/x-python",
   "name": "python",
   "nbconvert_exporter": "python",
   "pygments_lexer": "ipython3",
   "version": "3.12.3"
  }
 },
 "nbformat": 4,
 "nbformat_minor": 5
}
