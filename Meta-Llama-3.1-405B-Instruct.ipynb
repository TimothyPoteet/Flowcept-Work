{
 "cells": [
  {
   "cell_type": "markdown",
   "id": "26d418d6-7f36-4cc0-8582-ac0911c0e2b9",
   "metadata": {},
   "source": [
    "# Meta-Llama-3.1-405B-Instruct"
   ]
  },
  {
   "cell_type": "markdown",
   "id": "cd53b1aa-7fcd-4d59-b052-18bb5a32d35c",
   "metadata": {},
   "source": [
    "Idea is to have this all opened up after query is processed so that we can see what was produced. Data will be recorded in its respective Google Doc as well."
   ]
  },
  {
   "cell_type": "code",
   "execution_count": null,
   "id": "18923e4e-e21b-4066-8410-30a913310d29",
   "metadata": {},
   "outputs": [],
   "source": [
    "from flowcept import Flowcept\n",
    "from workflow import Workflow\n",
    "from qa_chain import QAChain"
   ]
  },
  {
   "cell_type": "code",
   "execution_count": null,
   "id": "e754ef94-cc0e-4936-8c52-b913802f2a8a",
   "metadata": {},
   "outputs": [],
   "source": [
    "workflow_id = Workflow.run()"
   ]
  },
  {
   "cell_type": "code",
   "execution_count": null,
   "id": "428a356f-6031-4a02-b5ae-33c9dae37506",
   "metadata": {},
   "outputs": [],
   "source": [
    "qa = QAChain().build(workflow_id)"
   ]
  },
  {
   "cell_type": "code",
   "execution_count": null,
   "id": "c103fe7e-a46d-480b-a085-b59f65372ecd",
   "metadata": {},
   "outputs": [],
   "source": []
  }
 ],
 "metadata": {
  "kernelspec": {
   "display_name": "Python 3 (ipykernel)",
   "language": "python",
   "name": "python3"
  },
  "language_info": {
   "codemirror_mode": {
    "name": "ipython",
    "version": 3
   },
   "file_extension": ".py",
   "mimetype": "text/x-python",
   "name": "python",
   "nbconvert_exporter": "python",
   "pygments_lexer": "ipython3",
   "version": "3.12.3"
  }
 },
 "nbformat": 4,
 "nbformat_minor": 5
}
