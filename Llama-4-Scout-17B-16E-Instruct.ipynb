{
 "cells": [
  {
   "cell_type": "markdown",
   "id": "f306de8d-e1f2-4433-9a16-2f3b1297b75c",
   "metadata": {},
   "source": [
    "# Llama-4-Scout-17B-16E-Instruct"
   ]
  },
  {
   "cell_type": "markdown",
   "id": "a46f35c8-0f28-4a95-a396-25ed415910b9",
   "metadata": {},
   "source": [
    "Idea is to have this all opened up after query is processed so that we can see what was produced. Data will be recorded in its respective Google Doc as well."
   ]
  },
  {
   "cell_type": "code",
   "execution_count": 6,
   "id": "0e8ec3bf-5e78-40fd-9712-20affcb9586b",
   "metadata": {},
   "outputs": [
    {
     "ename": "ModuleNotFoundError",
     "evalue": "No module named 'workflow'",
     "output_type": "error",
     "traceback": [
      "\u001b[31m---------------------------------------------------------------------------\u001b[39m",
      "\u001b[31mModuleNotFoundError\u001b[39m                       Traceback (most recent call last)",
      "\u001b[36mCell\u001b[39m\u001b[36m \u001b[39m\u001b[32mIn[6]\u001b[39m\u001b[32m, line 2\u001b[39m\n\u001b[32m      1\u001b[39m \u001b[38;5;28;01mfrom\u001b[39;00m\u001b[38;5;250m \u001b[39m\u001b[34;01mflowcept\u001b[39;00m\u001b[38;5;250m \u001b[39m\u001b[38;5;28;01mimport\u001b[39;00m Flowcept\n\u001b[32m----> \u001b[39m\u001b[32m2\u001b[39m \u001b[38;5;28;01mfrom\u001b[39;00m\u001b[38;5;250m \u001b[39m\u001b[34;01mworkflow\u001b[39;00m\u001b[38;5;250m \u001b[39m\u001b[38;5;28;01mimport\u001b[39;00m Workflow\n\u001b[32m      3\u001b[39m \u001b[38;5;28;01mfrom\u001b[39;00m\u001b[38;5;250m \u001b[39m\u001b[34;01mqa_chain\u001b[39;00m\u001b[38;5;250m \u001b[39m\u001b[38;5;28;01mimport\u001b[39;00m QAChain\n",
      "\u001b[31mModuleNotFoundError\u001b[39m: No module named 'workflow'"
     ]
    }
   ],
   "source": [
    "from flowcept import Flowcept\n",
    "from workflow import Workflow\n",
    "from qa_chain import QAChain"
   ]
  },
  {
   "cell_type": "code",
   "execution_count": 7,
   "id": "9cbcacd1-59b2-49d6-b2e8-1882600254db",
   "metadata": {},
   "outputs": [
    {
     "ename": "NameError",
     "evalue": "name 'Workflow' is not defined",
     "output_type": "error",
     "traceback": [
      "\u001b[31m---------------------------------------------------------------------------\u001b[39m",
      "\u001b[31mNameError\u001b[39m                                 Traceback (most recent call last)",
      "\u001b[36mCell\u001b[39m\u001b[36m \u001b[39m\u001b[32mIn[7]\u001b[39m\u001b[32m, line 1\u001b[39m\n\u001b[32m----> \u001b[39m\u001b[32m1\u001b[39m workflow_id = \u001b[43mWorkflow\u001b[49m.run()\n",
      "\u001b[31mNameError\u001b[39m: name 'Workflow' is not defined"
     ]
    }
   ],
   "source": [
    "workflow_id = Workflow.run()"
   ]
  },
  {
   "cell_type": "code",
   "execution_count": 8,
   "id": "2f5a5e4a-e572-4162-90cd-f7ea12b1a496",
   "metadata": {},
   "outputs": [
    {
     "ename": "NameError",
     "evalue": "name 'QAChain' is not defined",
     "output_type": "error",
     "traceback": [
      "\u001b[31m---------------------------------------------------------------------------\u001b[39m",
      "\u001b[31mNameError\u001b[39m                                 Traceback (most recent call last)",
      "\u001b[36mCell\u001b[39m\u001b[36m \u001b[39m\u001b[32mIn[8]\u001b[39m\u001b[32m, line 1\u001b[39m\n\u001b[32m----> \u001b[39m\u001b[32m1\u001b[39m qa = \u001b[43mQAChain\u001b[49m().build(workflow_id)\n",
      "\u001b[31mNameError\u001b[39m: name 'QAChain' is not defined"
     ]
    }
   ],
   "source": [
    "qa = QAChain().build(workflow_id)"
   ]
  },
  {
   "cell_type": "markdown",
   "id": "4709fd8c-1438-4d50-bda2-968535c08ecf",
   "metadata": {},
   "source": [
    "# Question 1 - How many tasks?"
   ]
  },
  {
   "cell_type": "code",
   "execution_count": 9,
   "id": "f488fc27-048d-49d2-9eb9-06d655a5b811",
   "metadata": {},
   "outputs": [
    {
     "ename": "NameError",
     "evalue": "name 'qa' is not defined",
     "output_type": "error",
     "traceback": [
      "\u001b[31m---------------------------------------------------------------------------\u001b[39m",
      "\u001b[31mNameError\u001b[39m                                 Traceback (most recent call last)",
      "\u001b[36mCell\u001b[39m\u001b[36m \u001b[39m\u001b[32mIn[9]\u001b[39m\u001b[32m, line 1\u001b[39m\n\u001b[32m----> \u001b[39m\u001b[32m1\u001b[39m q1sc = \u001b[43mqa\u001b[49m.ask(\u001b[33m'\u001b[39m\u001b[33mHow many tasks?\u001b[39m\u001b[33m'\u001b[39m)\n",
      "\u001b[31mNameError\u001b[39m: name 'qa' is not defined"
     ]
    }
   ],
   "source": [
    "q1sc = qa.ask('How many tasks?')"
   ]
  },
  {
   "cell_type": "code",
   "execution_count": null,
   "id": "ff9ccacd-4ca6-4cc1-b062-6e28d46d54ad",
   "metadata": {},
   "outputs": [],
   "source": []
  },
  {
   "cell_type": "code",
   "execution_count": null,
   "id": "f26188d8-9218-4c71-b1d4-6a43aa12af11",
   "metadata": {},
   "outputs": [],
   "source": []
  },
  {
   "cell_type": "code",
   "execution_count": null,
   "id": "42ae3f13-7c00-4ec0-b0bb-9acd02038a5d",
   "metadata": {},
   "outputs": [],
   "source": []
  }
 ],
 "metadata": {
  "kernelspec": {
   "display_name": "Python 3 (ipykernel)",
   "language": "python",
   "name": "python3"
  },
  "language_info": {
   "codemirror_mode": {
    "name": "ipython",
    "version": 3
   },
   "file_extension": ".py",
   "mimetype": "text/x-python",
   "name": "python",
   "nbconvert_exporter": "python",
   "pygments_lexer": "ipython3",
   "version": "3.12.3"
  }
 },
 "nbformat": 4,
 "nbformat_minor": 5
}
