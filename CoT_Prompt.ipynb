{
 "cells": [
  {
   "cell_type": "code",
   "execution_count": null,
   "id": "91e91480-cf6a-468d-8682-4b0f189341f4",
   "metadata": {},
   "outputs": [],
   "source": [
    "def cot_prompt(query, context=\"\"):\n",
    "    return f\"\"\"\n",
    "{context}\n",
    "{query}\n",
    "\n",
    "You are analyzing a mathematical workflow composed of multiple tasks. \n",
    "Each task processes data and passes it to the next task. \n",
    "Tasks have names like I_TO_H and H_TO_G. Data flows through tasks in a directed graph based on dependencies. Workflow = workflow.py\n",
    "\n",
    "To answer questions, follow these reasoning steps:\n",
    "1. Identify the task being asked about.\n",
    "2. Trace its inputs: which task produced the data it consumed?\n",
    "3. Trace its outputs: what does it return and where does it go?\n",
    "4. Use task definitions to compute or infer results.\n",
    "5. If the workflow failed, identify the last successful task, then check inputs and errors in the failed task.\n",
    "\n",
    "Always explain your reasoning step by step before providing a final answer.\n",
    "\"\"\"\n",
    "WFC = Workflow.run"
   ]
  }
 ],
 "metadata": {
  "kernelspec": {
   "display_name": "Python 3 (ipykernel)",
   "language": "python",
   "name": "python3"
  },
  "language_info": {
   "codemirror_mode": {
    "name": "ipython",
    "version": 3
   },
   "file_extension": ".py",
   "mimetype": "text/x-python",
   "name": "python",
   "nbconvert_exporter": "python",
   "pygments_lexer": "ipython3",
   "version": "3.12.3"
  }
 },
 "nbformat": 4,
 "nbformat_minor": 5
}
