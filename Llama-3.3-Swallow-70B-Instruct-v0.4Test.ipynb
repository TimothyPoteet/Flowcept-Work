{
 "cells": [
  {
   "cell_type": "markdown",
   "id": "ab9d8f0b-c2d8-43e9-a314-ffdfbc29c781",
   "metadata": {},
   "source": [
    "# Llama-3.3-Swallow-70B-Instruct-v0.4"
   ]
  },
  {
   "cell_type": "markdown",
   "id": "6e803e26-30be-4445-8816-7e9976384ca3",
   "metadata": {},
   "source": [
    "Idea is to have this all opened up after query is processed so that we can see what was produced. Data will be recorded in its respective Google Doc as well."
   ]
  },
  {
   "cell_type": "code",
   "execution_count": 26,
   "id": "0347a33f-1a23-49ce-bce2-8f98bd01472e",
   "metadata": {},
   "outputs": [],
   "source": [
    "from flowcept import Flowcept\n",
    "from workflow import Workflow\n",
    "from qa_chain import QAChain"
   ]
  },
  {
   "cell_type": "code",
   "execution_count": 46,
   "id": "826149e8-02e1-44d5-935f-80d7942cffe4",
   "metadata": {},
   "outputs": [
    {
     "name": "stdout",
     "output_type": "stream",
     "text": [
      "8\n",
      "Workflow_id=d811c81b-06a6-4c04-ba48-08801bd2d11f\n"
     ]
    }
   ],
   "source": [
    "workflow_id = Workflow.run()"
   ]
  },
  {
   "cell_type": "code",
   "execution_count": 28,
   "id": "90e85101-c5a6-4152-b846-efd0f7dce140",
   "metadata": {},
   "outputs": [],
   "source": [
    "qa = QAChain().build(workflow_id)"
   ]
  },
  {
   "cell_type": "markdown",
   "id": "87b52eb9-e61e-467b-b0a0-f86dedb87a0c",
   "metadata": {},
   "source": [
    "## Question 1 - How many tasks?"
   ]
  },
  {
   "cell_type": "code",
   "execution_count": 8,
   "id": "b71257b3-39db-468e-bf43-ace18d815890",
   "metadata": {},
   "outputs": [
    {
     "name": "stdout",
     "output_type": "stream",
     "text": [
      "Q: How many tasks?\n",
      "There are 2 tasks.\n",
      "---------------- I took 3.6 s to answer this.\n",
      "\n",
      "\n",
      "\n"
     ]
    }
   ],
   "source": [
    "q1sw = qa.ask('How many tasks?')"
   ]
  },
  {
   "cell_type": "code",
   "execution_count": 10,
   "id": "62323503-f839-4831-818c-bbd3aba834f4",
   "metadata": {},
   "outputs": [
    {
     "name": "stdout",
     "output_type": "stream",
     "text": [
      "Q: How many tasks?\n",
      "There are 2 tasks.\n",
      "---------------- I took 5.5 s to answer this.\n",
      "\n",
      "\n",
      "\n"
     ]
    }
   ],
   "source": [
    "q1sw = qa.ask('How many tasks?')"
   ]
  },
  {
   "cell_type": "code",
   "execution_count": 11,
   "id": "e42a7648-9221-466b-b231-5c3aea9cc2fd",
   "metadata": {},
   "outputs": [
    {
     "name": "stdout",
     "output_type": "stream",
     "text": [
      "Q: How many tasks?\n",
      "There are 2 tasks.\n",
      "---------------- I took 3.4 s to answer this.\n",
      "\n",
      "\n",
      "\n"
     ]
    }
   ],
   "source": [
    "q1sw = qa.ask('How many tasks?')"
   ]
  },
  {
   "cell_type": "markdown",
   "id": "571d8a87-cb41-45ac-a3b4-a33036bfdf5c",
   "metadata": {},
   "source": [
    "## Question 2 - What was the input and output of the task 'sum_one'?"
   ]
  },
  {
   "cell_type": "code",
   "execution_count": 9,
   "id": "16fcabb0-4273-43d1-91a3-5e59e64b8d08",
   "metadata": {},
   "outputs": [
    {
     "name": "stdout",
     "output_type": "stream",
     "text": [
      "Q: What was the input and output of the task ‘sum_one’?\n",
      "The input to the task 'sum_one' was `arg_0` with a value of 3. \n",
      "\n",
      "The output of the task 'sum_one' was `arg_0` with a value of 4.\n",
      "---------------- I took 6.8 s to answer this.\n",
      "\n",
      "\n",
      "\n"
     ]
    }
   ],
   "source": [
    "q2sw = qa.ask( 'What was the input and output of the task ‘sum_one’?' )"
   ]
  },
  {
   "cell_type": "code",
   "execution_count": 12,
   "id": "fe6f0e3e-7c67-48fa-b527-8c3329f32ea6",
   "metadata": {},
   "outputs": [
    {
     "name": "stdout",
     "output_type": "stream",
     "text": [
      "Q: What was the input and output of the task ‘sum_one’?\n",
      "The input to the task 'sum_one' was `arg_0` with a value of 3. \n",
      "\n",
      "The output of the task 'sum_one' was `arg_0` with a value of 4.\n",
      "---------------- I took 3.9 s to answer this.\n",
      "\n",
      "\n",
      "\n"
     ]
    }
   ],
   "source": [
    "q2sw = qa.ask( 'What was the input and output of the task ‘sum_one’?' )"
   ]
  },
  {
   "cell_type": "code",
   "execution_count": 13,
   "id": "dbbdf89d-228e-4399-87c2-f933225c7bf7",
   "metadata": {},
   "outputs": [
    {
     "name": "stdout",
     "output_type": "stream",
     "text": [
      "Q: What was the input and output of the task ‘sum_one’?\n",
      "The input to the task 'sum_one' was `arg_0` with a value of 3. \n",
      "\n",
      "The output of the task 'sum_one' was `arg_0` with a value of 4.\n",
      "---------------- I took 3.8 s to answer this.\n",
      "\n",
      "\n",
      "\n"
     ]
    }
   ],
   "source": [
    "q2sw = qa.ask( 'What was the input and output of the task ‘sum_one’?' )"
   ]
  },
  {
   "cell_type": "markdown",
   "id": "6d1b9b20-4c15-44c6-9169-c5bcadcdd440",
   "metadata": {},
   "source": [
    "## Question 3 - What is the order of execution of tasks in this workflow?"
   ]
  },
  {
   "cell_type": "code",
   "execution_count": 14,
   "id": "105be28a-8b39-40a2-af95-9c320d8304cd",
   "metadata": {},
   "outputs": [
    {
     "name": "stdout",
     "output_type": "stream",
     "text": [
      "Q: What is the order of execution of tasks in this workflow?\n",
      "Based on the provided data, the order of execution of tasks in this workflow is:\n",
      "\n",
      "1. **Task ID:** 1748540441.7172801, **Activity ID:** sum_one\n",
      "2. **Task ID:** 1748540441.7297912, **Activity ID:** mult_two \n",
      "\n",
      "\n",
      "This is determined by comparing the `started_at` timestamps for each task.\n",
      "---------------- I took 4.9 s to answer this.\n",
      "\n",
      "\n",
      "\n"
     ]
    }
   ],
   "source": [
    "q3sw = qa.ask( 'What is the order of execution of tasks in this workflow?' )"
   ]
  },
  {
   "cell_type": "code",
   "execution_count": 15,
   "id": "fcd4ed88-fa12-4fb5-9866-7c4d16eaa0d5",
   "metadata": {},
   "outputs": [
    {
     "name": "stdout",
     "output_type": "stream",
     "text": [
      "Q: What is the order of execution of tasks in this workflow?\n",
      "Based on the provided data, the order of execution of tasks in this workflow is:\n",
      "\n",
      "1. **Task ID:** 1748540441.7172801, **Activity ID:** sum_one\n",
      "2. **Task ID:** 1748540441.7297912, **Activity ID:** mult_two \n",
      "\n",
      "\n",
      "This is determined by comparing the `started_at` timestamps for each task.\n",
      "---------------- I took 4.4 s to answer this.\n",
      "\n",
      "\n",
      "\n"
     ]
    }
   ],
   "source": [
    "q3sw = qa.ask( 'What is the order of execution of tasks in this workflow?' )"
   ]
  },
  {
   "cell_type": "code",
   "execution_count": 16,
   "id": "9717bc3d-fec4-4f89-8c34-bcd8069d3c57",
   "metadata": {},
   "outputs": [
    {
     "name": "stdout",
     "output_type": "stream",
     "text": [
      "Q: What is the order of execution of tasks in this workflow?\n",
      "Based on the provided data, the order of execution of tasks in this workflow is:\n",
      "\n",
      "1. **Task ID:** 1748540441.7172801, **Activity ID:** sum_one\n",
      "2. **Task ID:** 1748540441.7297912, **Activity ID:** mult_two \n",
      "\n",
      "\n",
      "This is determined by comparing the `started_at` timestamps for each task.\n",
      "---------------- I took 3.9 s to answer this.\n",
      "\n",
      "\n",
      "\n"
     ]
    }
   ],
   "source": [
    "q3sw = qa.ask( 'What is the order of execution of tasks in this workflow?' )"
   ]
  },
  {
   "cell_type": "markdown",
   "id": "52755061-26ba-448c-b9f4-65bd4e8c77ec",
   "metadata": {},
   "source": [
    "## Question 4 - Is ‘mult_two’ dependent on the output of another task? Explain."
   ]
  },
  {
   "cell_type": "code",
   "execution_count": 17,
   "id": "e0aad624-65c3-4a98-9367-abe28f26d0ee",
   "metadata": {},
   "outputs": [
    {
     "name": "stdout",
     "output_type": "stream",
     "text": [
      "Q: Is ‘mult_two’ dependent on the output of another task? Explain.\n",
      "Based on the provided data, we cannot determine if 'mult_two' is dependent on the output of another task. \n",
      "\n",
      "Here's why:\n",
      "\n",
      "* **Lack of Dependency Information:** The data only provides information about individual tasks (their start/end times, resource usage, etc.) but doesn't explicitly state dependencies between tasks.\n",
      "\n",
      "* **Workflow Execution Trace:** While the data mentions a workflow execution trace, it doesn't provide the structure or order of tasks within that workflow. \n",
      "\n",
      "To determine if 'mult_two' depends on another task, you would need additional information, such as:\n",
      "\n",
      "* **Directed Acyclic Graph (DAG):** A visual representation of the workflow showing the tasks and their dependencies.\n",
      "* **Task Inputs/Outputs:** Information about what data each task consumes as input and produces as output. \n",
      "\n",
      "\n",
      "Let me know if you have any other questions!\n",
      "---------------- I took 4.9 s to answer this.\n",
      "\n",
      "\n",
      "\n"
     ]
    }
   ],
   "source": [
    "q4sw = qa.ask( 'Is ‘mult_two’ dependent on the output of another task? Explain.' )"
   ]
  },
  {
   "cell_type": "code",
   "execution_count": 21,
   "id": "502a14be-9c63-4e6a-9120-83bc9160126b",
   "metadata": {},
   "outputs": [
    {
     "name": "stdout",
     "output_type": "stream",
     "text": [
      "Q: Is ‘mult_two’ dependent on the output of another task? Explain.\n",
      "Based on the provided data, we cannot definitively say whether 'mult_two' is dependent on the output of another task. \n",
      "\n",
      "Here's why:\n",
      "\n",
      "* **Lack of Dependency Information:** The data you provided focuses on the execution details of individual tasks ('mult_two' and 'sum_one') but doesn't explicitly mention dependencies between them.\n",
      "\n",
      "* **Task Execution Order:**  The timestamps suggest 'sum_one' started before 'mult_two', but this doesn't necessarily imply dependency. They could be independent tasks executed sequentially.\n",
      "\n",
      "**To determine if 'mult_two' depends on 'sum_one', you would need additional information:**\n",
      "\n",
      "* **Workflow Definition:**  A workflow definition would explicitly outline the relationships between tasks, including dependencies.\n",
      "* **Input/Output Analysis:** Examining the input data for 'mult_two' might reveal if it relies on output generated by 'sum_one'. \n",
      "\n",
      "\n",
      "Let me know if you have any more context or data that could help clarify the relationship between these tasks!\n",
      "---------------- I took 6.4 s to answer this.\n",
      "\n",
      "\n",
      "\n"
     ]
    }
   ],
   "source": [
    "q4sw = qa.ask( 'Is ‘mult_two’ dependent on the output of another task? Explain.', context = '')"
   ]
  },
  {
   "cell_type": "code",
   "execution_count": 22,
   "id": "4c924a8d-7cd5-490e-833e-6ab3ec733618",
   "metadata": {},
   "outputs": [
    {
     "name": "stdout",
     "output_type": "stream",
     "text": [
      "Q: Is ‘mult_two’ dependent on the output of another task? Explain.\n",
      "Based on the provided data, we cannot determine if 'mult_two' is dependent on the output of another task. \n",
      "\n",
      "Here's why:\n",
      "\n",
      "* **Lack of Dependency Information:** The data only provides information about individual tasks (their start/end times, resource usage, etc.) but doesn't explicitly state dependencies between tasks.\n",
      "\n",
      "* **Workflow Execution Trace:** While the data mentions a workflow execution trace, it doesn't provide the structure or order of tasks within that workflow. \n",
      "\n",
      "To determine if 'mult_two' depends on another task, you would need additional information, such as:\n",
      "\n",
      "* **Directed Acyclic Graph (DAG):** A visual representation of the workflow showing the tasks and their dependencies.\n",
      "* **Task Inputs/Outputs:** Information about what data each task consumes as input and produces as output. \n",
      "\n",
      "\n",
      "Let me know if you have any other questions!\n",
      "---------------- I took 5.4 s to answer this.\n",
      "\n",
      "\n",
      "\n"
     ]
    }
   ],
   "source": [
    "q4sw = qa.ask( 'Is ‘mult_two’ dependent on the output of another task? Explain.' )"
   ]
  },
  {
   "cell_type": "markdown",
   "id": "398b6aa5-7ee1-4bb1-a0eb-a50a1aeda30b",
   "metadata": {},
   "source": [
    "## Question 5 - How was the final result printed by the workflow computed?"
   ]
  },
  {
   "cell_type": "code",
   "execution_count": 39,
   "id": "1adca57e-9cbb-4547-85f6-28767c4a93f8",
   "metadata": {},
   "outputs": [
    {
     "name": "stdout",
     "output_type": "stream",
     "text": [
      "Q: How was the final result printed by the workflow computed?\n",
      "I don't know.\n",
      "---------------- I took 3.6 s to answer this.\n",
      "\n",
      "\n",
      "\n"
     ]
    }
   ],
   "source": [
    "q5sw = qa.ask( 'How was the final result printed by the workflow computed?' )"
   ]
  },
  {
   "cell_type": "code",
   "execution_count": 43,
   "id": "6677ac8a-abf9-493e-b544-c90aa18f5268",
   "metadata": {},
   "outputs": [
    {
     "name": "stdout",
     "output_type": "stream",
     "text": [
      "Q: How was the final result printed by the workflow computed?\n",
      "The workflow you provided consists of two activities: `sum_one` and `mult_two`. \n",
      "\n",
      "* **`sum_one`** takes an input `arg_0` and adds 1 to it. In this case, `arg_0` was 3, so the output of `sum_one` is 4.\n",
      "\n",
      "* **`mult_two`** takes the output of `sum_one` (which is 4) and multiplies it by 2. \n",
      "\n",
      "Therefore, the final result printed by the workflow is **8**.\n",
      "---------------- I took 4.1 s to answer this.\n",
      "\n",
      "\n",
      "\n"
     ]
    }
   ],
   "source": [
    "q5sw = qa.ask( 'How was the final result printed by the workflow computed?', context = \"You know the workflow\" )"
   ]
  },
  {
   "cell_type": "code",
   "execution_count": 37,
   "id": "5ae81f53-6ed0-4da6-90c8-fbf62abea431",
   "metadata": {},
   "outputs": [
    {
     "name": "stdout",
     "output_type": "stream",
     "text": [
      "Q: How was the final result printed by the workflow computed?\n",
      "I don't know.\n",
      "---------------- I took 3.7 s to answer this.\n",
      "\n",
      "\n",
      "\n"
     ]
    }
   ],
   "source": [
    "q5sw = qa.ask( 'How was the final result printed by the workflow computed?' )"
   ]
  },
  {
   "cell_type": "code",
   "execution_count": null,
   "id": "d031f764-2666-47b8-84ba-610a0de94f66",
   "metadata": {},
   "outputs": [],
   "source": []
  },
  {
   "cell_type": "code",
   "execution_count": 45,
   "id": "4527a5e7-bcc8-45a6-afa2-9379b04acfa4",
   "metadata": {},
   "outputs": [
    {
     "name": "stdout",
     "output_type": "stream",
     "text": [
      "Q: Given the workflow where sum_one(n) and mult_two(o1) are executed, and n = 3, how is the final printed value computed step by step?\n",
      "Let's break down how the final printed value is computed step by step based on the provided information:\n",
      "\n",
      "1. **Input:** The workflow starts with the input `n = 3`.\n",
      "\n",
      "2. **sum_one(n):** The task `sum_one` takes the input `n` (which is 3) and adds 1 to it. \n",
      "\n",
      "   *  Based on the telemetry data, `sum_one` likely finished quickly (the timestamps are very close together).\n",
      "\n",
      "3. **Output of sum_one:** The output of `sum_one(3)` is `3 + 1 = 4`.\n",
      "\n",
      "4. **mult_two(o1):** The task `mult_two` takes the output from `sum_one` (which is 4, represented as `o1`) and multiplies it by 2.\n",
      "\n",
      "5. **Output of mult_two:** The output of `mult_two(4)` is `4 * 2 = 8`.\n",
      "\n",
      "6. **Final Printed Value:** The final printed value is the output of `mult_two`, which is **8**.\n",
      "\n",
      "\n",
      "\n",
      "**Important Note:** This explanation assumes that the workflow is designed to pass the output of `sum_one` as the input to `mult_two`. The provided data doesn't explicitly show this data flow, but it's a common pattern in workflows.\n",
      "---------------- I took 4.9 s to answer this.\n",
      "\n",
      "\n",
      "\n"
     ]
    }
   ],
   "source": [
    "# Test to see what specific form of a question gets an answer.\n",
    "q5sw = qa.ask( \"Given the workflow where sum_one(n) and mult_two(o1) are executed, and n = 3, how is the final printed value computed step by step?\" )"
   ]
  },
  {
   "cell_type": "code",
   "execution_count": null,
   "id": "69d48e34-d249-450b-9b01-353e6b0504c5",
   "metadata": {},
   "outputs": [],
   "source": []
  }
 ],
 "metadata": {
  "kernelspec": {
   "display_name": "Python 3 (ipykernel)",
   "language": "python",
   "name": "python3"
  },
  "language_info": {
   "codemirror_mode": {
    "name": "ipython",
    "version": 3
   },
   "file_extension": ".py",
   "mimetype": "text/x-python",
   "name": "python",
   "nbconvert_exporter": "python",
   "pygments_lexer": "ipython3",
   "version": "3.12.3"
  }
 },
 "nbformat": 4,
 "nbformat_minor": 5
}
