{
 "cells": [
  {
   "cell_type": "markdown",
   "id": "2375e6e9-317b-4bab-8d5d-708e4122465b",
   "metadata": {},
   "source": [
    "# Meta-Llama-3.1-8B-Instruct"
   ]
  },
  {
   "cell_type": "markdown",
   "id": "edfa439c-46d5-4b0f-ab17-9d279cc913f1",
   "metadata": {},
   "source": [
    "Idea is to have this all opened up after query is processed so that we can see what was produced. Data will be recorded in its respective Google Doc as well."
   ]
  },
  {
   "cell_type": "code",
   "execution_count": null,
   "id": "58d18528-a600-4d41-9690-55654a9a23fa",
   "metadata": {},
   "outputs": [],
   "source": [
    "from flowcept import Flowcept\n",
    "from workflow import Workflow\n",
    "from qa_chain import QAChain"
   ]
  },
  {
   "cell_type": "code",
   "execution_count": null,
   "id": "926b4ea6-2359-456c-85a6-77291216a6fb",
   "metadata": {},
   "outputs": [],
   "source": [
    "workflow_id = Workflow.run()"
   ]
  },
  {
   "cell_type": "code",
   "execution_count": null,
   "id": "f5748571-de78-495c-b0f9-0e2b8ffe7529",
   "metadata": {},
   "outputs": [],
   "source": [
    "qa = QAChain().build(workflow_id)"
   ]
  },
  {
   "cell_type": "code",
   "execution_count": null,
   "id": "ed5d28b1-c42a-4bae-9fe4-d708f7c58c43",
   "metadata": {},
   "outputs": [],
   "source": []
  }
 ],
 "metadata": {
  "kernelspec": {
   "display_name": "Python 3 (ipykernel)",
   "language": "python",
   "name": "python3"
  },
  "language_info": {
   "codemirror_mode": {
    "name": "ipython",
    "version": 3
   },
   "file_extension": ".py",
   "mimetype": "text/x-python",
   "name": "python",
   "nbconvert_exporter": "python",
   "pygments_lexer": "ipython3",
   "version": "3.12.3"
  }
 },
 "nbformat": 4,
 "nbformat_minor": 5
}
