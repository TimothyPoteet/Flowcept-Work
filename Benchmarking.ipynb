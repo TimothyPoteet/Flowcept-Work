{
 "cells": [
  {
   "cell_type": "markdown",
   "id": "d1a0280b-dab3-43f1-80c7-9537b38fc541",
   "metadata": {},
   "source": [
    "# Benchmarking Code"
   ]
  },
  {
   "cell_type": "code",
   "execution_count": null,
   "id": "29eb55e1-624d-435d-b8ec-6991883603e4",
   "metadata": {},
   "outputs": [],
   "source": [
    "import time\n",
    "\n",
    "def benchmark_query(qa_chain, query, runs=5, context=None):\n",
    "    results = []\n",
    "    \n",
    "    for i in range(runs):\n",
    "        start = time.time()\n",
    "        result = qa_chain.ask(query, context=context)\n",
    "        end = time.time()\n",
    "        \n",
    "        response = result[\"result\"]\n",
    "        response_time = end - start\n",
    "        char_count = len(response)\n",
    "        \n",
    "        results.append({\n",
    "            \"run\": i + 1,\n",
    "            \"response_time_sec\": response_time,\n",
    "            \"response\": response,\n",
    "            \"char_count\": char_count\n",
    "        })\n",
    "# TO GET AVERAGES\n",
    "    avg_time = sum(r[\"response_time_sec\"] for r in results) / runs\n",
    "    avg_char_count = sum(r[\"char_count\"] for r in results) / runs\n",
    "\n",
    "    return {\n",
    "        \"query\": query,\n",
    "        \"runs\": results,\n",
    "        \"average_response_time_sec\": avg_time,\n",
    "        \"average_char_count\": avg_char_count\n",
    "    }\n"
   ]
  }
 ],
 "metadata": {
  "kernelspec": {
   "display_name": "Python 3 (ipykernel)",
   "language": "python",
   "name": "python3"
  },
  "language_info": {
   "codemirror_mode": {
    "name": "ipython",
    "version": 3
   },
   "file_extension": ".py",
   "mimetype": "text/x-python",
   "name": "python",
   "nbconvert_exporter": "python",
   "pygments_lexer": "ipython3",
   "version": "3.12.3"
  }
 },
 "nbformat": 4,
 "nbformat_minor": 5
}
